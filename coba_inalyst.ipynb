{
  "nbformat": 4,
  "nbformat_minor": 0,
  "metadata": {
    "colab": {
      "name": "coba inalyst",
      "provenance": [],
      "authorship_tag": "ABX9TyPcpdcaKdmiGlooee34+Hq2",
      "include_colab_link": true
    },
    "kernelspec": {
      "name": "python3",
      "display_name": "Python 3"
    },
    "language_info": {
      "name": "python"
    }
  },
  "cells": [
    {
      "cell_type": "markdown",
      "metadata": {
        "id": "view-in-github",
        "colab_type": "text"
      },
      "source": [
        "<a href=\"https://colab.research.google.com/github/fadillarizalul/barbershop-customer-prediction/blob/main/coba_inalyst.ipynb\" target=\"_parent\"><img src=\"https://colab.research.google.com/assets/colab-badge.svg\" alt=\"Open In Colab\"/></a>"
      ]
    },
    {
      "cell_type": "markdown",
      "source": [
        "## Loading Data"
      ],
      "metadata": {
        "id": "EwCSHIaRtOgq"
      }
    },
    {
      "cell_type": "code",
      "source": [
        "import numpy as np\n",
        "import matplotlib.pyplot as plt\n",
        "import pandas as pd\n",
        "%matplotlib inline\n",
        "import seaborn as sns"
      ],
      "metadata": {
        "id": "DEDaosvMs7Pc"
      },
      "execution_count": 1,
      "outputs": []
    },
    {
      "cell_type": "code",
      "execution_count": 2,
      "metadata": {
        "colab": {
          "base_uri": "https://localhost:8080/"
        },
        "id": "0uUjprkzoENw",
        "outputId": "889fd2c1-3841-489e-b338-1ab71461db36"
      },
      "outputs": [
        {
          "output_type": "stream",
          "name": "stdout",
          "text": [
            "--2022-05-26 14:10:28--  https://github.com/fadillarizalul/barbershop-customer-prediction/raw/main/inalyst-barbershop.zip\n",
            "Resolving github.com (github.com)... 140.82.114.4\n",
            "Connecting to github.com (github.com)|140.82.114.4|:443... connected.\n",
            "HTTP request sent, awaiting response... 302 Found\n",
            "Location: https://raw.githubusercontent.com/fadillarizalul/barbershop-customer-prediction/main/inalyst-barbershop.zip [following]\n",
            "--2022-05-26 14:10:28--  https://raw.githubusercontent.com/fadillarizalul/barbershop-customer-prediction/main/inalyst-barbershop.zip\n",
            "Resolving raw.githubusercontent.com (raw.githubusercontent.com)... 185.199.108.133, 185.199.109.133, 185.199.110.133, ...\n",
            "Connecting to raw.githubusercontent.com (raw.githubusercontent.com)|185.199.108.133|:443... connected.\n",
            "HTTP request sent, awaiting response... 200 OK\n",
            "Length: 27139 (27K) [application/zip]\n",
            "Saving to: ‘inalyst-barbershop.zip’\n",
            "\n",
            "inalyst-barbershop. 100%[===================>]  26.50K  --.-KB/s    in 0s      \n",
            "\n",
            "2022-05-26 14:10:28 (94.5 MB/s) - ‘inalyst-barbershop.zip’ saved [27139/27139]\n",
            "\n"
          ]
        }
      ],
      "source": [
        "!wget --no-check-certificate \\\n",
        "https://github.com/fadillarizalul/barbershop-customer-prediction/raw/main/inalyst-barbershop.zip \\\n",
        "  -O inalyst-barbershop.zip"
      ]
    },
    {
      "cell_type": "code",
      "source": [
        "!unzip /content/inalyst-barbershop.zip"
      ],
      "metadata": {
        "colab": {
          "base_uri": "https://localhost:8080/"
        },
        "id": "otyr_ZM6tE6q",
        "outputId": "c63b691e-d619-44f7-e794-3d50f2f82f76"
      },
      "execution_count": 3,
      "outputs": [
        {
          "output_type": "stream",
          "name": "stdout",
          "text": [
            "Archive:  /content/inalyst-barbershop.zip\n",
            "   creating: inalyst-barbershop/\n",
            "  inflating: inalyst-barbershop/answer_contoh.csv  \n",
            "  inflating: inalyst-barbershop/answer_template.csv  \n",
            "  inflating: inalyst-barbershop/data_googlebusiness.csv  \n",
            "  inflating: inalyst-barbershop/data_pricelist.csv  \n",
            "  inflating: inalyst-barbershop/Data_Transaksi_Barber.csv  \n"
          ]
        }
      ]
    },
    {
      "cell_type": "code",
      "source": [
        ""
      ],
      "metadata": {
        "id": "F-xD1onZtKde"
      },
      "execution_count": null,
      "outputs": []
    }
  ]
}